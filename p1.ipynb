{
  "nbformat": 4,
  "nbformat_minor": 0,
  "metadata": {
    "colab": {
      "provenance": []
    },
    "kernelspec": {
      "name": "python3",
      "display_name": "Python 3"
    },
    "language_info": {
      "name": "python"
    }
  },
  "cells": [
    {
      "cell_type": "code",
      "execution_count": 51,
      "metadata": {
        "id": "4l0LuXsJ2XBG"
      },
      "outputs": [],
      "source": [
        "def listOp(arr):\n",
        "  print(\"List: \",arr)\n",
        "  #List insert\n",
        "  num=int(input(\"Enter a number to insert: \"))\n",
        "  arr.append(num)\n",
        "  print(arr)\n",
        "  #List update\n",
        "  ind=int(input(\"Enter index to update: \"))\n",
        "  val=int(input(\"Enter value to update: \"))\n",
        "  if ind>=0 and ind<len(arr):\n",
        "    arr[ind]=val\n",
        "  else:\n",
        "    print(\"Invalid index\")\n",
        "  print(arr)\n",
        "  #List delete\n",
        "  ind=int(input(\"Enter index to delete: \"))\n",
        "  if ind>=0 and ind<len(arr):\n",
        "    del arr[ind]\n",
        "  else:\n",
        "    print(\"Invalid index\")\n",
        "  print(arr)\n",
        "  #List sort\n",
        "  arr.sort()\n",
        "  print(\"Sorted list: \",arr)\n",
        "  #List search\n",
        "  key=int(input(\"Enter key to search: \"))\n",
        "  if key in arr:\n",
        "    print(\"Key found\")\n",
        "  else:\n",
        "    print(\"Key not found\")"
      ]
    },
    {
      "cell_type": "code",
      "source": [
        "def tupleOp(tup):\n",
        "  print(\"Tuple: \",tup)\n",
        "  #tuple search\n",
        "  key=int(input(\"Enter key to search: \"))\n",
        "  if key in tup:\n",
        "    print(\"Key found\")\n",
        "  else:\n",
        "    print(\"Key not found\")\n",
        "  print(\"Tuple does not support insert, update, delete and sorting operations\")"
      ],
      "metadata": {
        "id": "YJmhZj9-_IcD"
      },
      "execution_count": 52,
      "outputs": []
    },
    {
      "cell_type": "code",
      "source": [
        "def setOp(setarr):\n",
        "  print(\"Set: \",setarr)\n",
        "  #Set insert\n",
        "  num=int(input(\"Enter a number to insert: \"))\n",
        "  setarr.add(num)\n",
        "  print(setarr)\n",
        "  #Set update not applicable\n",
        "  #Set delete\n",
        "  val=int(input(\"Enter value to delete: \"))\n",
        "  setarr.remove(val)\n",
        "  print(setarr)\n",
        "  #Set sorting not applicable as it sorts automatically\n",
        "  #Set search\n",
        "  key=int(input(\"Enter key to search: \"))\n",
        "  if key in setarr:\n",
        "    print(\"Key found\")\n",
        "  else:\n",
        "    print(\"Key not found\")"
      ],
      "metadata": {
        "id": "VLuBiVvYB68h"
      },
      "execution_count": 53,
      "outputs": []
    },
    {
      "cell_type": "code",
      "source": [
        "def dictionaryOp(dict):\n",
        "  print(\"Dictionary: \",dict)\n",
        "  #Dictionary insert\n",
        "  key,val=input(\"Enter a key value pair to insert: \").split()\n",
        "  dict[key]=int(val)\n",
        "  print(dict)\n",
        "  #Dictionary update not applicable\n",
        "  #Dictionary delete\n",
        "  key=input(\"Enter key to delete from dictionary: \")\n",
        "  if key in dict:\n",
        "    del dict[key]\n",
        "  else:\n",
        "    print(\"Key not found\")\n",
        "  print(dict)\n",
        "  #Dictionary search\n",
        "  key=input(\"Enter key to search: \")\n",
        "  if key in dict:\n",
        "    print(\"Key found\")\n",
        "  else:\n",
        "    print(\"Key not found\")"
      ],
      "metadata": {
        "id": "3TrTJSmPG3tz"
      },
      "execution_count": 54,
      "outputs": []
    },
    {
      "cell_type": "code",
      "source": [
        "def main():\n",
        "  arr=[1,2,3,4]\n",
        "  print(\"List Operations:\")\n",
        "  listOp(arr)\n",
        "  tup=(5,6,7,8)\n",
        "  print(\"Tuple Operations:\")\n",
        "  tupleOp(tup)\n",
        "  setarr={9,10,11,12}\n",
        "  print(\"Set Operations:\")\n",
        "  setOp(setarr)\n",
        "  dict={\"one\":1, \"two\":2}\n",
        "  print(\"Dictionary Operations:\")\n",
        "  dictionaryOp(dict)\n",
        "\n",
        "#if __name__==\"__main__\":\n",
        "main()"
      ],
      "metadata": {
        "colab": {
          "base_uri": "https://localhost:8080/"
        },
        "id": "X8vHusJH_tGD",
        "outputId": "e94c2cf4-2c29-46c0-f2ba-ccf86a5999b3"
      },
      "execution_count": 55,
      "outputs": [
        {
          "output_type": "stream",
          "name": "stdout",
          "text": [
            "List Operations:\n",
            "List:  [1, 2, 3, 4]\n",
            "Enter a number to insert: 5\n",
            "[1, 2, 3, 4, 5]\n",
            "Enter index to update: 2\n",
            "Enter value to update: 0\n",
            "[1, 2, 0, 4, 5]\n",
            "Enter index to delete: 3\n",
            "[1, 2, 0, 5]\n",
            "Sorted list:  [0, 1, 2, 5]\n",
            "Enter key to search: 1\n",
            "Key found\n",
            "Tuple Operations:\n",
            "Tuple:  (5, 6, 7, 8)\n",
            "Enter key to search: 7\n",
            "Key found\n",
            "Tuple does not support insert, update, delete and sorting operations\n",
            "Set Operations:\n",
            "Set:  {9, 10, 11, 12}\n",
            "Enter a number to insert: 8\n",
            "{8, 9, 10, 11, 12}\n",
            "Enter value to delete: 11\n",
            "{8, 9, 10, 12}\n",
            "Enter key to search: 9\n",
            "Key found\n",
            "Dictionary Operations:\n",
            "Dictionary:  {'one': 1, 'two': 2}\n",
            "Enter a key value pair to insert: five 5\n",
            "{'one': 1, 'two': 2, 'five': 5}\n",
            "Enter key to delete from dictionary: two\n",
            "{'one': 1, 'five': 5}\n",
            "Enter key to search: one\n",
            "Key found\n"
          ]
        }
      ]
    }
  ]
}